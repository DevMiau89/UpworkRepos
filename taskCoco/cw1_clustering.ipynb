{
 "cells": [
  {
   "cell_type": "markdown",
   "metadata": {},
   "source": [
    "# Learning from data 2018 - Clustering"
   ]
  },
  {
   "cell_type": "markdown",
   "metadata": {},
   "source": [
    "## Instructions"
   ]
  },
  {
   "cell_type": "markdown",
   "metadata": {},
   "source": [
    "| Date set     | Hand-in date |\n",
    "|------------------|-----------------------------------|\n",
    "|23rd October 2018  | **12:00 9th November 2018** |\n",
    "\n"
   ]
  },
  {
   "cell_type": "markdown",
   "metadata": {},
   "source": [
    "Candidate number: ** Put your candidate number here **  "
   ]
  },
  {
   "cell_type": "markdown",
   "metadata": {
    "collapsed": true
   },
   "source": [
    "Your report should consist of your Jupyter notebook showing what you did (including technical descriptions of the implemented algorithms), what was the result and what you can conclude from the experiments. Each report will be\n",
    "assessed on the following criteria:\n",
    "\n",
    "* Does it record what was done including the details of the implemented algorithms?\n",
    "* Does it permit the results to be reproduced?\n",
    "* How does the work relate to the theoretical foundations discussed in lectures?\n",
    "* Is it well presented?\n",
    "\n",
    "Use markdown to explain what you are doing (including equations, if any), what the results mean, how they relate to the theory, etc. \n",
    "\n",
    "You can add new cells as you think fit and delete ones that are not needed (do not delete this preamble). \n",
    "\n",
    "### Submitting the notebooks\n",
    "\n",
    "Only an electronic submissions is required.  Submit your notebook (the .ipynb file) to electronic copy via the  [electronic hand-in system](http://empslocal.ex.ac.uk/submit/) using the topic:\n",
    "- <cmd>2018-11-09~ECM3420~Lorenzo Livi~cw1</cmd>\n",
    "- <cmd>2018-11-09~ECMM445~Lorenzo Livi~cw1</cmd>\n",
    "\n",
    "You should be able to upload the notebook directly from wherever it is on your machine.  If you're not sure where it is, type <code>pwd</code> (print working directory) in a cell to find out.  To keep the marking anonymous, please don't leave directory names that reveal your identity in cells."
   ]
  },
  {
   "cell_type": "markdown",
   "metadata": {},
   "source": [
    "<div class=\"alert alert-warning\">\n",
    "Although you will undoubtedly work collaboratively in the workshops themselves, these are *individual* exercises.  The reports you write should be about the results *you* obtained, and your attention is drawn to the College and University guidelines on collaboration and plagiarism. "
   ]
  },
  {
   "cell_type": "markdown",
   "metadata": {},
   "source": [
    "## Project specification\n",
    "\n",
    "The project consists of two parts, each one worth 5% of the total 10% associated with this assessed workshop.\n",
    "\n",
    "- **First part of the project**\n",
    "\n",
    "Implement the k-means algorithm using the Mahalanobis distance instead of the standard Euclidean distance. Then, define a synthetic dataset (a 2 or 3-dimensional problem, so we can easily visualize the data, with roughly 500 data points) where k-means operating with Mahalanobis distance works better than k-means equipped with Euclidean distance and standard centroid cluster representatives.\n",
    "    \n",
    "- **Second part of the project**\n",
    "\n",
    "Implement the Davies-Bouldin index for cluster validation (intrinsic cluster validation). Perform model selection for selecting the partition order *k* of k-means (use the standard implementation with Euclidean distances and centroids) on the synthetic dataset named \"cluster_validation_data\" that has been provided in the compressed archive."
   ]
  },
  {
   "cell_type": "markdown",
   "metadata": {},
   "source": [
    "## Your project starts from here!"
   ]
  },
  {
   "cell_type": "code",
   "execution_count": 1,
   "metadata": {},
   "outputs": [],
   "source": [
    "# make sure plots are displayed correctly on notebooks\n",
    "%matplotlib inline"
   ]
  },
  {
   "cell_type": "markdown",
   "metadata": {},
   "source": [
    "### Part 1 of the project..."
   ]
  },
  {
   "cell_type": "code",
   "execution_count": 2,
   "metadata": {},
   "outputs": [],
   "source": [
    "# add how many cells you want here..."
   ]
  },
  {
   "cell_type": "markdown",
   "metadata": {},
   "source": [
    "### Part 2 of the project..."
   ]
  },
  {
   "cell_type": "code",
   "execution_count": null,
   "metadata": {},
   "outputs": [],
   "source": [
    "# add how many cells you want here..."
   ]
  }
 ],
 "metadata": {
  "anaconda-cloud": {},
  "kernelspec": {
   "display_name": "Python 3",
   "language": "python",
   "name": "python3"
  },
  "language_info": {
   "codemirror_mode": {
    "name": "ipython",
    "version": 3
   },
   "file_extension": ".py",
   "mimetype": "text/x-python",
   "name": "python",
   "nbconvert_exporter": "python",
   "pygments_lexer": "ipython3",
   "version": "3.7.0"
  }
 },
 "nbformat": 4,
 "nbformat_minor": 1
}
